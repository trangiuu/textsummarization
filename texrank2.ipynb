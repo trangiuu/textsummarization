{
 "cells": [
  {
   "cell_type": "code",
   "execution_count": 1,
   "metadata": {},
   "outputs": [
    {
     "name": "stdout",
     "output_type": "stream",
     "text": [
      "No module named 'fasttext'\n"
     ]
    }
   ],
   "source": [
    "import pandas as pd\n",
    "import numpy as np\n",
    "import underthesea"
   ]
  },
  {
   "cell_type": "code",
   "execution_count": 22,
   "metadata": {},
   "outputs": [],
   "source": [
    "#đọc dữ liệu\n",
    "#ví dụ ở đây là một đoạn văn bản\n",
    "vd=\"\"'Tại hội thảo \"Thúc đẩy đổi mới sáng tạo số với hạ tầng phân tích dữ liệu lớn\" tổ chức sáng 19/10, ông Đào Mạnh Thắng, Phó Cục trưởng Cục Thông tin khoa học và công nghệ quốc gia (NASATI) giới thiệu Hệ thống Compas. Hệ thống này do Viện Thông tin khoa học và công nghệ Hàn Quốc (KISTI) xây dựng và đã sử dụng trong doanh nghiệp vừa và nhỏ tại Hàn Quốc. Compas phiên bản Việt (V-Compas) được chuyển giao công nghệ cho NASATI nghiên cứu vận hành phục vụ cộng đồng nghiên cứu và đổi mới sáng tạo trong nước. Compas là công cụ trực tuyến chạy trên nền tảng dữ liệu lớn (BigData) giúp phân tích, đánh giá hiện trạng và xác định xu hướng phát triển công nghệ trong các ngành, lĩnh vực. Hệ thống hỗ trợ chuyên gia trong quá trình tìm kiếm dữ liệu và ra quyết định liên quan đến công nghệ, thông qua đánh giá các tài liệu về sáng chế, bài báo khoa học và kết quả nghiên cứu. Công cụ cũng giúp doanh nghiệp tra cứu thông tin sáng chế, thị trường khoa học công nghệ, nhận dạng đối thủ cạnh tranh. Nền tảng cho phép nhập cơ sở dữ liệu, sử dụng khai thác dữ liệu sẵn có, hỗ trợ giải quyết các vấn đề trong quản lý công nghệ bằng kinh nghiệm và công nghệ thông tin mới nhất của Hàn Quốc. Compas tiến hành phân tích, đánh giá hiện trạng từng lĩnh vực cụ thể để đưa ra dự báo và định hướng công nghệ cần phát triển. \"Công cụ hỗ trợ hữu ích với nhiều đối tượng người dùng, từ nhà quản lý khoa học, nhà nghiên cứu đến các doanh nghiệp muốn nghiên cứu phát triển công nghệ phục vụ sản xuất, kinh doanh và phát triển thị trường\", ông Thắng nói. TS Hyuck Jai Lee, Giám đốc dự án của KISTI, cho biết công đoạn cốt lõi là chuẩn hóa dữ liệu, tạo ra một nền tảng đủ khả năng xử lý một lượng thông tin lớn giúp người dùng sử dụng dễ dàng, nhanh chóng. Khi chuyển giao cho Việt Nam, mô hình phân tích dữ liệu được mở rộng thêm các modul phân tích đưa ra ý kiến, thông tin về cơ sở dữ liệu sáng chế và thực trạng của Việt Nam. Tuy nhiên TS Lee cho biết vẫn còn hạn chế là Compas chỉ có các thông tin về công nghệ đã được đăng ký sáng chế. Theo đó việc triển khai nền tảng vẫn cần được định hướng và có hành lang chính sách, tiếp tục đào tạo đội ngũ nhân sự. TS Đỗ Đức Nam, Phó Viện trưởng Viện nghiên cứu sáng chế và khai thác công nghệ (NIPTECH) cho biết, Compas đã thể hiện được những điểm mới, các doanh nghiệp, tổ chức có thể tận dụng khai thác. Tuy nhiên một số vấn đề như thu thập cơ sở dữ liệu về sáng chế, thông tin doanh nghiệp, nghiên cứu thị trường hay số hoá dữ liệu, chuyển ngữ bài báo... vẫn cần được chú ý. Ông Nam cho rằng, cần bổ sung dữ liệu thông tin từ nhiều nguồn để có cơ sở dữ liệu đủ lớn. Ông cũng mong muốn các đơn vị kết nối phần dữ liệu cơ sở của Việt Nam, bổ sung chuyên gia (người thực) trong lĩnh vực không chỉ dừng ở những đánh giá sơ bộ của máy. Tại hội thảo, các chuyên gia cũng gợi ý mở rộng cơ sở dữ liệu hệ thống, bổ sung dữ liệu phi sáng chế. Ông Thắng cho biết, sẽ kết nối với các đơn vị, tìm hiểu các dữ liệu chuyên sâu hơn, bổ sung thêm modul, làm dày bộ data cơ sở dữ liệu về sáng chế thế giới...'\"\""
   ]
  },
  {
   "cell_type": "code",
   "execution_count": 4,
   "metadata": {},
   "outputs": [],
   "source": [
    "#tiền xử lý dữ liệu\n",
    "#tách đoạn thành câu riêng lẻ\n",
    "from underthesea import sent_tokenize\n",
    "def text_sentence(text):\n",
    "    sentence=sent_tokenize(text)\n",
    "    return sentence\n",
    "#chuyển chữ hoa thành chữ thường\n",
    "def text_lower(text):\n",
    "    textlower=text.lower()\n",
    "    return text\n",
    "#loại bỏ kí tự đặc biệt\n",
    "import regex as re\n",
    "def text_remove_charac(text):\n",
    "    text = re.sub(r'[^\\s\\wáàảãạăắằẳẵặâấầẩẫậéèẻẽẹêếềểễệóòỏõọôốồổỗộơớờởỡợíìỉĩịúùủũụưứừửữựýỳỷỹỵđ_]',' ',text)\n",
    "    text = re.sub(r'\\s+', ' ', text).strip()\n",
    "    return text\n",
    "#loại bỏ stop word\n",
    "from underthesea import word_tokenize\n",
    "def text_remove_stopword(text,stopword):\n",
    "    tokens = word_tokenize(text)\n",
    "    filtered_tokens = [token for token in tokens if token.lower() not in stopword]\n",
    "    filtered_text = ' '.join(filtered_tokens)\n",
    "    return filtered_text\n"
   ]
  },
  {
   "cell_type": "code",
   "execution_count": 5,
   "metadata": {},
   "outputs": [],
   "source": [
    "#vector hóa câu trong văn bản\n",
    "#dùng Tfid\n",
    "from sklearn.feature_extraction.text import TfidfVectorizer\n",
    "#tạo từ điển dữ liệu\n",
    "def tfid_vocab(text):\n",
    "    vectorizer=TfidfVectorizer()\n",
    "    matrix=vectorizer.fit_transform(text)\n",
    "    vocab=vectorizer.get_feature_names_out()\n",
    "    return matrix,vocab\n"
   ]
  },
  {
   "cell_type": "code",
   "execution_count": 7,
   "metadata": {},
   "outputs": [],
   "source": [
    "#tạo ra ma trận tương tự\n",
    "#dùng coisine\n",
    "from sklearn.metrics.pairwise import cosine_similarity\n",
    "import networkx as nx\n",
    "def prepare_matrix(text,matrix,vocab):\n",
    "    sim_mat = np.zeros([len(text), len(text)])\n",
    "    for i in range(len(text)):\n",
    "        for j in range(len(text)):\n",
    "            if i != j:\n",
    "                sim_mat[i][j] = cosine_similarity(matrix[i].reshape(1,len(vocab)), matrix[j].reshape(1,(len(vocab))))[0,0]\n",
    "    graph = nx.from_numpy_array(sim_mat)\n",
    "    return graph"
   ]
  },
  {
   "cell_type": "code",
   "execution_count": 12,
   "metadata": {},
   "outputs": [],
   "source": [
    "#tính độ tương đồng, sắp xếp\n",
    "def rank_sort(graph,text):\n",
    "    scores = nx.pagerank(graph)\n",
    "    rank = sorted(((scores[i],s) for i,s in enumerate(text)), reverse=True)\n",
    "    return rank\n"
   ]
  },
  {
   "cell_type": "code",
   "execution_count": 8,
   "metadata": {},
   "outputs": [],
   "source": [
    "#tóm tắt\n",
    "# def summarization(rank_sort,vocab_quan):\n",
    "#     for i in range(vocab_quan):\n",
    "#         summa=(rank_sort[i][1])\n",
    "#     return summa\n"
   ]
  },
  {
   "cell_type": "code",
   "execution_count": 11,
   "metadata": {},
   "outputs": [
    {
     "name": "stdout",
     "output_type": "stream",
     "text": [
      "['và', 'của', 'là', 'có', 'được']\n"
     ]
    }
   ],
   "source": [
    "#hàm tạo từ điền stopword\n",
    "#tạo bằng tệp dữ liệu crawl\n",
    "data=pd.read_csv('dataset0001.csv')\n",
    "data= data.dropna(subset=['Noidung'])\n",
    "content=list(data['Noidung'])\n",
    "\n",
    "from collections import Counter\n",
    "def cre_stop_word(data,per):\n",
    "    all_tokens = []\n",
    "    for text in data:\n",
    "        text = re.sub(r'[^\\s\\wáàảãạăắằẳẵặâấầẩẫậéèẻẽẹêếềểễệóòỏõọôốồổỗộơớờởỡợíìỉĩịúùủũụưứừửữựýỳỷỹỵđ_]',' ',text)\n",
    "        text = re.sub(r'\\s+', ' ', text).strip()\n",
    "        \n",
    "        tokens=word_tokenize(text)\n",
    "        all_tokens.extend(tokens)\n",
    "    \n",
    "    word_freq = Counter(all_tokens)\n",
    "    \n",
    "    total_words = sum(word_freq.values())\n",
    "    stopword_threshold = total_words * per\n",
    "    stopwords = [word for word, freq in word_freq.items() if freq > stopword_threshold]\n",
    "    \n",
    "    return stopwords\n",
    "\n",
    "stopwords=cre_stop_word(content,0.01)\n",
    "print(stopwords)\n"
   ]
  },
  {
   "cell_type": "code",
   "execution_count": 23,
   "metadata": {},
   "outputs": [
    {
     "name": "stdout",
     "output_type": "stream",
     "text": [
      "Tại hội thảo \"Thúc đẩy đổi mới sáng tạo số với hạ tầng phân tích dữ liệu lớn\" tổ chức sáng 19/10, ông Đào Mạnh Thắng, Phó Cục trưởng Cục Thông tin khoa học và công nghệ quốc gia (NASATI) giới thiệu Hệ thống Compas. Hệ thống này do Viện Thông tin khoa học và công nghệ Hàn Quốc (KISTI) xây dựng và đã sử dụng trong doanh nghiệp vừa và nhỏ tại Hàn Quốc. Compas phiên bản Việt (V-Compas) được chuyển giao công nghệ cho NASATI nghiên cứu vận hành phục vụ cộng đồng nghiên cứu và đổi mới sáng tạo trong nước. Compas là công cụ trực tuyến chạy trên nền tảng dữ liệu lớn (BigData) giúp phân tích, đánh giá hiện trạng và xác định xu hướng phát triển công nghệ trong các ngành, lĩnh vực. Hệ thống hỗ trợ chuyên gia trong quá trình tìm kiếm dữ liệu và ra quyết định liên quan đến công nghệ, thông qua đánh giá các tài liệu về sáng chế, bài báo khoa học và kết quả nghiên cứu. Công cụ cũng giúp doanh nghiệp tra cứu thông tin sáng chế, thị trường khoa học công nghệ, nhận dạng đối thủ cạnh tranh. Nền tảng cho phép nhập cơ sở dữ liệu, sử dụng khai thác dữ liệu sẵn có, hỗ trợ giải quyết các vấn đề trong quản lý công nghệ bằng kinh nghiệm và công nghệ thông tin mới nhất của Hàn Quốc. Compas tiến hành phân tích, đánh giá hiện trạng từng lĩnh vực cụ thể để đưa ra dự báo và định hướng công nghệ cần phát triển. \"Công cụ hỗ trợ hữu ích với nhiều đối tượng người dùng, từ nhà quản lý khoa học, nhà nghiên cứu đến các doanh nghiệp muốn nghiên cứu phát triển công nghệ phục vụ sản xuất, kinh doanh và phát triển thị trường\", ông Thắng nói. TS Hyuck Jai Lee, Giám đốc dự án của KISTI, cho biết công đoạn cốt lõi là chuẩn hóa dữ liệu, tạo ra một nền tảng đủ khả năng xử lý một lượng thông tin lớn giúp người dùng sử dụng dễ dàng, nhanh chóng. Khi chuyển giao cho Việt Nam, mô hình phân tích dữ liệu được mở rộng thêm các modul phân tích đưa ra ý kiến, thông tin về cơ sở dữ liệu sáng chế và thực trạng của Việt Nam. Tuy nhiên TS Lee cho biết vẫn còn hạn chế là Compas chỉ có các thông tin về công nghệ đã được đăng ký sáng chế. Theo đó việc triển khai nền tảng vẫn cần được định hướng và có hành lang chính sách, tiếp tục đào tạo đội ngũ nhân sự. TS Đỗ Đức Nam, Phó Viện trưởng Viện nghiên cứu sáng chế và khai thác công nghệ (NIPTECH) cho biết, Compas đã thể hiện được những điểm mới, các doanh nghiệp, tổ chức có thể tận dụng khai thác. Tuy nhiên một số vấn đề như thu thập cơ sở dữ liệu về sáng chế, thông tin doanh nghiệp, nghiên cứu thị trường hay số hoá dữ liệu, chuyển ngữ bài báo... vẫn cần được chú ý. Ông Nam cho rằng, cần bổ sung dữ liệu thông tin từ nhiều nguồn để có cơ sở dữ liệu đủ lớn. Ông cũng mong muốn các đơn vị kết nối phần dữ liệu cơ sở của Việt Nam, bổ sung chuyên gia (người thực) trong lĩnh vực không chỉ dừng ở những đánh giá sơ bộ của máy. Tại hội thảo, các chuyên gia cũng gợi ý mở rộng cơ sở dữ liệu hệ thống, bổ sung dữ liệu phi sáng chế. Ông Thắng cho biết, sẽ kết nối với các đơn vị, tìm hiểu các dữ liệu chuyên sâu hơn, bổ sung thêm modul, làm dày bộ data cơ sở dữ liệu về sáng chế thế giới...\n",
      "<class 'str'>\n"
     ]
    }
   ],
   "source": [
    "#thử\n",
    "print(vd)\n",
    "print(type(vd))"
   ]
  },
  {
   "cell_type": "code",
   "execution_count": 19,
   "metadata": {},
   "outputs": [
    {
     "name": "stdout",
     "output_type": "stream",
     "text": [
      "<class 'str'>\n",
      "19\n"
     ]
    }
   ],
   "source": [
    "#tách đoạn thành câu\n",
    "vd_sen=text_sentence(vd)\n",
    "#đổi chữ thường, từ cuối, kí tự đặc biệt\n",
    "vd_sen_pre=[]\n",
    "for i in range(len(vd_sen)):\n",
    "    sen=text_lower(vd_sen[i])\n",
    "    sen=text_remove_charac(vd_sen[i])\n",
    "    sen=text_remove_stopword(vd_sen[i],stopwords)\n",
    "    vd_sen_pre.append(sen)\n",
    "print(type(vd_sen_pre[0]))\n",
    "print(len(vd_sen_pre))"
   ]
  },
  {
   "cell_type": "code",
   "execution_count": 25,
   "metadata": {},
   "outputs": [
    {
     "name": "stdout",
     "output_type": "stream",
     "text": [
      "['10' '19' 'bigdata' 'biết' 'bài' 'báo' 'bản' 'bằng' 'bổ' 'bộ' 'cho'\n",
      " 'chuyên' 'chuyển' 'chuẩn' 'chính' 'chóng' 'chú' 'chạy' 'chế' 'chỉ' 'chức'\n",
      " 'compas' 'các' 'còn' 'có' 'công' 'cũng' 'cơ' 'cạnh' 'cần' 'cốt' 'cộng'\n",
      " 'cụ' 'cục' 'cứu' 'data' 'do' 'doanh' 'dàng' 'dày' 'dùng' 'dạng' 'dễ'\n",
      " 'dụng' 'dừng' 'dữ' 'dự' 'dựng' 'gia' 'giao' 'giá' 'giám' 'giúp' 'giải'\n",
      " 'giới' 'gợi' 'hay' 'hiểu' 'hiện' 'hyuck' 'hàn' 'hành' 'hình' 'hóa' 'hơn'\n",
      " 'hướng' 'hạ' 'hạn' 'hệ' 'học' 'hỗ' 'hội' 'hữu' 'jai' 'khai' 'khi' 'khoa'\n",
      " 'không' 'khả' 'kinh' 'kisti' 'kiếm' 'kiến' 'ký' 'kết' 'lang' 'lee' 'liên'\n",
      " 'liệu' 'làm' 'lõi' 'lý' 'lĩnh' 'lượng' 'lớn' 'modul' 'mong' 'muốn' 'máy'\n",
      " 'mô' 'mạnh' 'một' 'mới' 'mở' 'nam' 'nasati' 'nghiên' 'nghiệm' 'nghiệp'\n",
      " 'nghệ' 'nguồn' 'ngành' 'ngũ' 'người' 'ngữ' 'nhanh' 'nhiên' 'nhiều' 'nhà'\n",
      " 'nhân' 'như' 'nhất' 'nhận' 'nhập' 'nhỏ' 'những' 'niptech' 'này' 'nói'\n",
      " 'năng' 'nước' 'nền' 'nối' 'phi' 'phiên' 'phát' 'phân' 'phép' 'phó' 'phần'\n",
      " 'phục' 'qua' 'quan' 'quyết' 'quá' 'quả' 'quản' 'quốc' 'ra' 'rằng' 'rộng'\n",
      " 'sung' 'sách' 'sáng' 'sâu' 'sơ' 'sản' 'sẵn' 'sẽ' 'số' 'sở' 'sử' 'sự'\n",
      " 'theo' 'thiệu' 'thu' 'thác' 'thêm' 'thông' 'thúc' 'thảo' 'thập' 'thắng'\n",
      " 'thế' 'thể' 'thị' 'thống' 'thủ' 'thực' 'tin' 'tiến' 'tiếp' 'tra' 'tranh'\n",
      " 'triển' 'trong' 'trên' 'trình' 'trường' 'trưởng' 'trạng' 'trợ' 'trực'\n",
      " 'ts' 'tuy' 'tuyến' 'tài' 'tìm' 'tích' 'tượng' 'tại' 'tạo' 'tảng' 'tầng'\n",
      " 'tận' 'tổ' 'tục' 'từ' 'từng' 'việc' 'viện' 'việt' 'vấn' 'vẫn' 'vận' 'về'\n",
      " 'vị' 'với' 'vụ' 'vừa' 'vực' 'xu' 'xuất' 'xác' 'xây' 'xử' 'án' 'ích' 'ông'\n",
      " 'điểm' 'đoạn' 'đào' 'đánh' 'đã' 'đó' 'đăng' 'đơn' 'đưa' 'đẩy' 'đến' 'đề'\n",
      " 'để' 'định' 'đốc' 'đối' 'đồng' 'đổi' 'đỗ' 'đội' 'đủ' 'đức']\n",
      "251\n"
     ]
    }
   ],
   "source": [
    "\n",
    "matran,tudien=tfid_vocab(vd_sen_pre)\n",
    "print(tudien)\n",
    "print(len(tudien))"
   ]
  },
  {
   "cell_type": "code",
   "execution_count": 26,
   "metadata": {},
   "outputs": [
    {
     "name": "stdout",
     "output_type": "stream",
     "text": [
      "Graph with 19 nodes and 162 edges\n"
     ]
    }
   ],
   "source": [
    "dothi=prepare_matrix(vd_sen_pre,matran,tudien)\n",
    "print(dothi)"
   ]
  },
  {
   "cell_type": "code",
   "execution_count": 47,
   "metadata": {},
   "outputs": [
    {
     "name": "stdout",
     "output_type": "stream",
     "text": [
      "[(0.06517563897055159, 'Hệ thống hỗ trợ chuyên gia trong quá trình tìm kiếm dữ liệu ra quyết định liên quan đến công nghệ , thông qua đánh giá các tài liệu về sáng chế , bài báo khoa học kết quả nghiên cứu .'), (0.06502794381044098, 'Nền tảng cho phép nhập cơ sở dữ liệu , sử dụng khai thác dữ liệu sẵn , hỗ trợ giải quyết các vấn đề trong quản lý công nghệ bằng kinh nghiệm công nghệ thông tin mới nhất Hàn Quốc .'), (0.06116036339822074, 'Khi chuyển giao cho Việt Nam , mô hình phân tích dữ liệu mở rộng thêm các modul phân tích đưa ra ý kiến , thông tin về cơ sở dữ liệu sáng chế thực trạng Việt Nam .'), (0.060076970102522484, 'Tuy nhiên một số vấn đề như thu thập cơ sở dữ liệu về sáng chế , thông tin doanh nghiệp , nghiên cứu thị trường hay số hóa dữ liệu , chuyển ngữ bài báo ... vẫn cần chú ý .'), (0.05934883073454439, 'Compas công cụ trực tuyến chạy trên nền tảng dữ liệu lớn ( BigData ) giúp phân tích , đánh giá hiện trạng xác định xu hướng phát triển công nghệ trong các ngành , lĩnh vực .'), (0.05881555689461296, 'Tại hội thảo , các chuyên gia cũng gợi ý mở rộng cơ sở dữ liệu hệ thống , bổ sung dữ liệu phi sáng chế .'), (0.057823131438170944, 'Ông Nam cho rằng , cần bổ sung dữ liệu thông tin từ nhiều nguồn để cơ sở dữ liệu đủ lớn .'), (0.05722257651404877, 'Tại hội thảo \" Thúc đẩy đổi mới sáng tạo số với hạ tầng phân tích dữ liệu lớn \" tổ chức sáng 19/10 , ông Đào Mạnh Thắng , Phó Cục trưởng Cục Thông tin khoa học công nghệ quốc gia ( NASATI ) giới thiệu Hệ thống Compas .'), (0.05523544345015517, 'Ông Thắng cho biết , sẽ kết nối với các đơn vị , tìm hiểu các dữ liệu chuyên sâu hơn , bổ sung thêm modul , làm dày bộ data cơ sở dữ liệu về sáng chế thế giới ...'), (0.05257345882413468, 'Compas tiến hành phân tích , đánh giá hiện trạng từng lĩnh vực cụ thể để đưa ra dự báo định hướng công nghệ cần phát triển .'), (0.052267476086312936, '\" Công cụ hỗ trợ hữu ích với nhiều đối tượng người dùng , từ nhà quản lý khoa học , nhà nghiên cứu đến các doanh nghiệp muốn nghiên cứu phát triển công nghệ phục vụ sản xuất , kinh doanh phát triển thị trường \" , ông Thắng nói .'), (0.05209526187878655, 'Ông cũng mong muốn các đơn vị kết nối phần dữ liệu cơ sở Việt Nam , bổ sung chuyên gia ( người thực ) trong lĩnh vực không chỉ dừng ở những đánh giá sơ bộ máy .'), (0.050101396404805584, 'TS Đỗ Đức Nam , Phó Viện trưởng Viện nghiên cứu sáng chế khai thác công nghệ ( NIPTECH ) cho biết , Compas đã thể hiện những điểm mới , các doanh nghiệp , tổ chức có thể tận dụng khai thác .'), (0.04954030762372251, 'Tuy nhiên TS Lee cho biết vẫn còn hạn chế Compas chỉ các thông tin về công nghệ đã đăng ký sáng chế .'), (0.04910688902406618, 'Công cụ cũng giúp doanh nghiệp tra cứu thông tin sáng chế , thị trường khoa học công nghệ , nhận dạng đối thủ cạnh tranh .'), (0.04485826304414803, 'Compas phiên bản Việt ( V-Compas ) chuyển giao công nghệ cho NASATI nghiên cứu vận hành phục vụ cộng đồng nghiên cứu đổi mới sáng tạo trong nước .'), (0.04239165194697854, 'Hệ thống này do Viện Thông tin khoa học công nghệ Hàn Quốc ( KISTI ) xây dựng đã sử dụng trong doanh nghiệp vừa nhỏ tại Hàn Quốc .'), (0.04139656526117108, 'TS Hyuck Jai Lee , Giám đốc dự án KISTI , cho biết công đoạn cốt lõi chuẩn hóa dữ liệu , tạo ra một nền tảng đủ khả năng xử lý một lượng thông tin lớn giúp người dùng sử dụng dễ dàng , nhanh chóng .'), (0.025782274592605715, 'Theo đó việc triển khai nền tảng vẫn cần định hướng hành lang chính sách , tiếp tục đào tạo đội ngũ nhân sự .')]\n",
      "19\n"
     ]
    }
   ],
   "source": [
    "xephang=rank_sort(dothi,vd_sen_pre)\n",
    "print(xephang)\n",
    "print(len(xephang))"
   ]
  },
  {
   "cell_type": "code",
   "execution_count": 53,
   "metadata": {},
   "outputs": [
    {
     "name": "stdout",
     "output_type": "stream",
     "text": [
      "Hệ thống hỗ trợ chuyên gia trong quá trình tìm kiếm dữ liệu ra quyết định liên quan đến công nghệ , thông qua đánh giá các tài liệu về sáng chế , bài báo khoa học kết quả nghiên cứu .\n",
      "Nền tảng cho phép nhập cơ sở dữ liệu , sử dụng khai thác dữ liệu sẵn , hỗ trợ giải quyết các vấn đề trong quản lý công nghệ bằng kinh nghiệm công nghệ thông tin mới nhất Hàn Quốc .\n",
      "Khi chuyển giao cho Việt Nam , mô hình phân tích dữ liệu mở rộng thêm các modul phân tích đưa ra ý kiến , thông tin về cơ sở dữ liệu sáng chế thực trạng Việt Nam .\n",
      "Tuy nhiên một số vấn đề như thu thập cơ sở dữ liệu về sáng chế , thông tin doanh nghiệp , nghiên cứu thị trường hay số hóa dữ liệu , chuyển ngữ bài báo ... vẫn cần chú ý .\n",
      "Compas công cụ trực tuyến chạy trên nền tảng dữ liệu lớn ( BigData ) giúp phân tích , đánh giá hiện trạng xác định xu hướng phát triển công nghệ trong các ngành , lĩnh vực .\n",
      "Tại hội thảo , các chuyên gia cũng gợi ý mở rộng cơ sở dữ liệu hệ thống , bổ sung dữ liệu phi sáng chế .\n",
      "Ông Nam cho rằng , cần bổ sung dữ liệu thông tin từ nhiều nguồn để cơ sở dữ liệu đủ lớn .\n"
     ]
    }
   ],
   "source": [
    "for i in range (7):\n",
    "    print(xephang[i][1])"
   ]
  },
  {
   "cell_type": "code",
   "execution_count": 39,
   "metadata": {},
   "outputs": [
    {
     "name": "stdout",
     "output_type": "stream",
     "text": [
      "Khi chuyển giao cho Việt Nam , mô hình phân tích dữ liệu mở rộng thêm các modul phân tích đưa ra ý kiến , thông tin về cơ sở dữ liệu sáng chế thực trạng Việt Nam .\n"
     ]
    }
   ],
   "source": [
    "# sum=summarization(xephang,3)\n",
    "# print(sum)"
   ]
  },
  {
   "cell_type": "code",
   "execution_count": 58,
   "metadata": {},
   "outputs": [],
   "source": [
    "def summarization2(rank_sort,quan):\n",
    "    sum=[]\n",
    "    for i in range(quan):\n",
    "        print(rank_sort[i][1])\n",
    "    #return sum"
   ]
  },
  {
   "cell_type": "code",
   "execution_count": 59,
   "metadata": {},
   "outputs": [
    {
     "name": "stdout",
     "output_type": "stream",
     "text": [
      "Hệ thống hỗ trợ chuyên gia trong quá trình tìm kiếm dữ liệu ra quyết định liên quan đến công nghệ , thông qua đánh giá các tài liệu về sáng chế , bài báo khoa học kết quả nghiên cứu .\n",
      "Nền tảng cho phép nhập cơ sở dữ liệu , sử dụng khai thác dữ liệu sẵn , hỗ trợ giải quyết các vấn đề trong quản lý công nghệ bằng kinh nghiệm công nghệ thông tin mới nhất Hàn Quốc .\n",
      "Khi chuyển giao cho Việt Nam , mô hình phân tích dữ liệu mở rộng thêm các modul phân tích đưa ra ý kiến , thông tin về cơ sở dữ liệu sáng chế thực trạng Việt Nam .\n",
      "Tuy nhiên một số vấn đề như thu thập cơ sở dữ liệu về sáng chế , thông tin doanh nghiệp , nghiên cứu thị trường hay số hóa dữ liệu , chuyển ngữ bài báo ... vẫn cần chú ý .\n",
      "Compas công cụ trực tuyến chạy trên nền tảng dữ liệu lớn ( BigData ) giúp phân tích , đánh giá hiện trạng xác định xu hướng phát triển công nghệ trong các ngành , lĩnh vực .\n",
      "Tại hội thảo , các chuyên gia cũng gợi ý mở rộng cơ sở dữ liệu hệ thống , bổ sung dữ liệu phi sáng chế .\n",
      "Ông Nam cho rằng , cần bổ sung dữ liệu thông tin từ nhiều nguồn để cơ sở dữ liệu đủ lớn .\n",
      "None\n"
     ]
    }
   ],
   "source": [
    "sum2=summarization2(xephang,7)\n",
    "print(sum2)"
   ]
  }
 ],
 "metadata": {
  "kernelspec": {
   "display_name": "base",
   "language": "python",
   "name": "python3"
  },
  "language_info": {
   "codemirror_mode": {
    "name": "ipython",
    "version": 3
   },
   "file_extension": ".py",
   "mimetype": "text/x-python",
   "name": "python",
   "nbconvert_exporter": "python",
   "pygments_lexer": "ipython3",
   "version": "3.11.4"
  }
 },
 "nbformat": 4,
 "nbformat_minor": 2
}
